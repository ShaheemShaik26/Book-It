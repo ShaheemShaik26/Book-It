{
 "cells": [
  {
   "cell_type": "code",
   "execution_count": 1,
   "id": "3e0ada91",
   "metadata": {
    "_cell_guid": "b1076dfc-b9ad-4769-8c92-a6c4dae69d19",
    "_uuid": "8f2839f25d086af736a60e9eeb907d3b93b6e0e5",
    "execution": {
     "iopub.execute_input": "2025-05-23T05:03:20.737945Z",
     "iopub.status.busy": "2025-05-23T05:03:20.737631Z",
     "iopub.status.idle": "2025-05-23T05:03:22.746546Z",
     "shell.execute_reply": "2025-05-23T05:03:22.745546Z"
    },
    "papermill": {
     "duration": 2.017957,
     "end_time": "2025-05-23T05:03:22.748047",
     "exception": false,
     "start_time": "2025-05-23T05:03:20.730090",
     "status": "completed"
    },
    "tags": []
   },
   "outputs": [
    {
     "name": "stdout",
     "output_type": "stream",
     "text": [
      "/kaggle/input/titanic/train.csv\n",
      "/kaggle/input/test-titanic/test.csv\n"
     ]
    }
   ],
   "source": [
    "# This Python 3 environment comes with many helpful analytics libraries installed\n",
    "# It is defined by the kaggle/python Docker image: https://github.com/kaggle/docker-python\n",
    "# For example, here's several helpful packages to load\n",
    "\n",
    "import numpy as np # linear algebra\n",
    "import pandas as pd # data processing, CSV file I/O (e.g. pd.read_csv)\n",
    "\n",
    "# Input data files are available in the read-only \"../input/\" directory\n",
    "# For example, running this (by clicking run or pressing Shift+Enter) will list all files under the input directory\n",
    "\n",
    "import os\n",
    "for dirname, _, filenames in os.walk('/kaggle/input'):\n",
    "    for filename in filenames:\n",
    "        print(os.path.join(dirname, filename))\n",
    "\n",
    "# You can write up to 20GB to the current directory (/kaggle/working/) that gets preserved as output when you create a version using \"Save & Run All\" \n",
    "# You can also write temporary files to /kaggle/temp/, but they won't be saved outside of the current session"
   ]
  },
  {
   "cell_type": "markdown",
   "id": "826f38d0",
   "metadata": {
    "papermill": {
     "duration": 0.005139,
     "end_time": "2025-05-23T05:03:22.759138",
     "exception": false,
     "start_time": "2025-05-23T05:03:22.753999",
     "status": "completed"
    },
    "tags": []
   },
   "source": [
    "# Predicting Titanic Survivors Dataset with Logistic Regression"
   ]
  },
  {
   "cell_type": "code",
   "execution_count": 2,
   "id": "2ea1e061",
   "metadata": {
    "execution": {
     "iopub.execute_input": "2025-05-23T05:03:22.771183Z",
     "iopub.status.busy": "2025-05-23T05:03:22.770742Z",
     "iopub.status.idle": "2025-05-23T05:03:22.824059Z",
     "shell.execute_reply": "2025-05-23T05:03:22.823135Z"
    },
    "papermill": {
     "duration": 0.061133,
     "end_time": "2025-05-23T05:03:22.825646",
     "exception": false,
     "start_time": "2025-05-23T05:03:22.764513",
     "status": "completed"
    },
    "tags": []
   },
   "outputs": [
    {
     "data": {
      "text/html": [
       "<div>\n",
       "<style scoped>\n",
       "    .dataframe tbody tr th:only-of-type {\n",
       "        vertical-align: middle;\n",
       "    }\n",
       "\n",
       "    .dataframe tbody tr th {\n",
       "        vertical-align: top;\n",
       "    }\n",
       "\n",
       "    .dataframe thead th {\n",
       "        text-align: right;\n",
       "    }\n",
       "</style>\n",
       "<table border=\"1\" class=\"dataframe\">\n",
       "  <thead>\n",
       "    <tr style=\"text-align: right;\">\n",
       "      <th></th>\n",
       "      <th>PassengerId</th>\n",
       "      <th>Survived</th>\n",
       "      <th>Pclass</th>\n",
       "      <th>Name</th>\n",
       "      <th>Sex</th>\n",
       "      <th>Age</th>\n",
       "      <th>SibSp</th>\n",
       "      <th>Parch</th>\n",
       "      <th>Ticket</th>\n",
       "      <th>Fare</th>\n",
       "      <th>Cabin</th>\n",
       "      <th>Embarked</th>\n",
       "    </tr>\n",
       "  </thead>\n",
       "  <tbody>\n",
       "    <tr>\n",
       "      <th>0</th>\n",
       "      <td>1</td>\n",
       "      <td>0</td>\n",
       "      <td>3</td>\n",
       "      <td>Braund, Mr. Owen Harris</td>\n",
       "      <td>male</td>\n",
       "      <td>22.0</td>\n",
       "      <td>1</td>\n",
       "      <td>0</td>\n",
       "      <td>A/5 21171</td>\n",
       "      <td>7.2500</td>\n",
       "      <td>NaN</td>\n",
       "      <td>S</td>\n",
       "    </tr>\n",
       "    <tr>\n",
       "      <th>1</th>\n",
       "      <td>2</td>\n",
       "      <td>1</td>\n",
       "      <td>1</td>\n",
       "      <td>Cumings, Mrs. John Bradley (Florence Briggs Th...</td>\n",
       "      <td>female</td>\n",
       "      <td>38.0</td>\n",
       "      <td>1</td>\n",
       "      <td>0</td>\n",
       "      <td>PC 17599</td>\n",
       "      <td>71.2833</td>\n",
       "      <td>C85</td>\n",
       "      <td>C</td>\n",
       "    </tr>\n",
       "    <tr>\n",
       "      <th>2</th>\n",
       "      <td>3</td>\n",
       "      <td>1</td>\n",
       "      <td>3</td>\n",
       "      <td>Heikkinen, Miss. Laina</td>\n",
       "      <td>female</td>\n",
       "      <td>26.0</td>\n",
       "      <td>0</td>\n",
       "      <td>0</td>\n",
       "      <td>STON/O2. 3101282</td>\n",
       "      <td>7.9250</td>\n",
       "      <td>NaN</td>\n",
       "      <td>S</td>\n",
       "    </tr>\n",
       "    <tr>\n",
       "      <th>3</th>\n",
       "      <td>4</td>\n",
       "      <td>1</td>\n",
       "      <td>1</td>\n",
       "      <td>Futrelle, Mrs. Jacques Heath (Lily May Peel)</td>\n",
       "      <td>female</td>\n",
       "      <td>35.0</td>\n",
       "      <td>1</td>\n",
       "      <td>0</td>\n",
       "      <td>113803</td>\n",
       "      <td>53.1000</td>\n",
       "      <td>C123</td>\n",
       "      <td>S</td>\n",
       "    </tr>\n",
       "    <tr>\n",
       "      <th>4</th>\n",
       "      <td>5</td>\n",
       "      <td>0</td>\n",
       "      <td>3</td>\n",
       "      <td>Allen, Mr. William Henry</td>\n",
       "      <td>male</td>\n",
       "      <td>35.0</td>\n",
       "      <td>0</td>\n",
       "      <td>0</td>\n",
       "      <td>373450</td>\n",
       "      <td>8.0500</td>\n",
       "      <td>NaN</td>\n",
       "      <td>S</td>\n",
       "    </tr>\n",
       "  </tbody>\n",
       "</table>\n",
       "</div>"
      ],
      "text/plain": [
       "   PassengerId  Survived  Pclass  \\\n",
       "0            1         0       3   \n",
       "1            2         1       1   \n",
       "2            3         1       3   \n",
       "3            4         1       1   \n",
       "4            5         0       3   \n",
       "\n",
       "                                                Name     Sex   Age  SibSp  \\\n",
       "0                            Braund, Mr. Owen Harris    male  22.0      1   \n",
       "1  Cumings, Mrs. John Bradley (Florence Briggs Th...  female  38.0      1   \n",
       "2                             Heikkinen, Miss. Laina  female  26.0      0   \n",
       "3       Futrelle, Mrs. Jacques Heath (Lily May Peel)  female  35.0      1   \n",
       "4                           Allen, Mr. William Henry    male  35.0      0   \n",
       "\n",
       "   Parch            Ticket     Fare Cabin Embarked  \n",
       "0      0         A/5 21171   7.2500   NaN        S  \n",
       "1      0          PC 17599  71.2833   C85        C  \n",
       "2      0  STON/O2. 3101282   7.9250   NaN        S  \n",
       "3      0            113803  53.1000  C123        S  \n",
       "4      0            373450   8.0500   NaN        S  "
      ]
     },
     "execution_count": 2,
     "metadata": {},
     "output_type": "execute_result"
    }
   ],
   "source": [
    "import matplotlib.pyplot as plt   \n",
    "import copy\n",
    "import math                       \n",
    "import pandas as pd\n",
    "\n",
    "%matplotlib inline\n",
    "\n",
    "file_path = \"/kaggle/input/titanic/train.csv\"\n",
    "df = pd.read_csv(file_path)\n",
    "\n",
    "df.head()\n"
   ]
  },
  {
   "cell_type": "code",
   "execution_count": 3,
   "id": "e27192ca",
   "metadata": {
    "execution": {
     "iopub.execute_input": "2025-05-23T05:03:22.838569Z",
     "iopub.status.busy": "2025-05-23T05:03:22.838277Z",
     "iopub.status.idle": "2025-05-23T05:03:22.848218Z",
     "shell.execute_reply": "2025-05-23T05:03:22.847312Z"
    },
    "papermill": {
     "duration": 0.017977,
     "end_time": "2025-05-23T05:03:22.849641",
     "exception": false,
     "start_time": "2025-05-23T05:03:22.831664",
     "status": "completed"
    },
    "tags": []
   },
   "outputs": [
    {
     "name": "stdout",
     "output_type": "stream",
     "text": [
      "Index(['PassengerId', 'Survived', 'Pclass', 'Name', 'Sex', 'Age', 'SibSp',\n",
      "       'Parch', 'Ticket', 'Fare', 'Cabin', 'Embarked'],\n",
      "      dtype='object')\n",
      "   PassengerId  Survived  Pclass  \\\n",
      "0            1         0       3   \n",
      "1            2         1       1   \n",
      "2            3         1       3   \n",
      "3            4         1       1   \n",
      "4            5         0       3   \n",
      "\n",
      "                                                Name     Sex   Age  SibSp  \\\n",
      "0                            Braund, Mr. Owen Harris    male  22.0      1   \n",
      "1  Cumings, Mrs. John Bradley (Florence Briggs Th...  female  38.0      1   \n",
      "2                             Heikkinen, Miss. Laina  female  26.0      0   \n",
      "3       Futrelle, Mrs. Jacques Heath (Lily May Peel)  female  35.0      1   \n",
      "4                           Allen, Mr. William Henry    male  35.0      0   \n",
      "\n",
      "   Parch            Ticket     Fare Cabin Embarked  \n",
      "0      0         A/5 21171   7.2500   NaN        S  \n",
      "1      0          PC 17599  71.2833   C85        C  \n",
      "2      0  STON/O2. 3101282   7.9250   NaN        S  \n",
      "3      0            113803  53.1000  C123        S  \n",
      "4      0            373450   8.0500   NaN        S  \n"
     ]
    }
   ],
   "source": [
    "print(df.columns)\n",
    "print(df.head())"
   ]
  },
  {
   "cell_type": "markdown",
   "id": "d2ed2959",
   "metadata": {
    "papermill": {
     "duration": 0.005427,
     "end_time": "2025-05-23T05:03:22.861034",
     "exception": false,
     "start_time": "2025-05-23T05:03:22.855607",
     "status": "completed"
    },
    "tags": []
   },
   "source": [
    "**Selecting Age and Fare as inputs**"
   ]
  },
  {
   "cell_type": "code",
   "execution_count": 4,
   "id": "c3d3fffa",
   "metadata": {
    "execution": {
     "iopub.execute_input": "2025-05-23T05:03:22.873733Z",
     "iopub.status.busy": "2025-05-23T05:03:22.873443Z",
     "iopub.status.idle": "2025-05-23T05:03:22.885013Z",
     "shell.execute_reply": "2025-05-23T05:03:22.884252Z"
    },
    "papermill": {
     "duration": 0.019857,
     "end_time": "2025-05-23T05:03:22.886624",
     "exception": false,
     "start_time": "2025-05-23T05:03:22.866767",
     "status": "completed"
    },
    "tags": []
   },
   "outputs": [],
   "source": [
    "X_train = df.iloc[:, [4, 8]].values\n",
    "y_train = df.iloc[:, 1].values "
   ]
  },
  {
   "cell_type": "code",
   "execution_count": 5,
   "id": "5bec2cec",
   "metadata": {
    "execution": {
     "iopub.execute_input": "2025-05-23T05:03:22.899700Z",
     "iopub.status.busy": "2025-05-23T05:03:22.898927Z",
     "iopub.status.idle": "2025-05-23T05:03:22.904190Z",
     "shell.execute_reply": "2025-05-23T05:03:22.903190Z"
    },
    "papermill": {
     "duration": 0.013273,
     "end_time": "2025-05-23T05:03:22.905756",
     "exception": false,
     "start_time": "2025-05-23T05:03:22.892483",
     "status": "completed"
    },
    "tags": []
   },
   "outputs": [
    {
     "name": "stdout",
     "output_type": "stream",
     "text": [
      "[0 1]\n"
     ]
    }
   ],
   "source": [
    "print(np.unique(y_train))  # Should print: [0 1]"
   ]
  },
  {
   "cell_type": "code",
   "execution_count": 6,
   "id": "feac2735",
   "metadata": {
    "execution": {
     "iopub.execute_input": "2025-05-23T05:03:22.924901Z",
     "iopub.status.busy": "2025-05-23T05:03:22.924247Z",
     "iopub.status.idle": "2025-05-23T05:03:22.930205Z",
     "shell.execute_reply": "2025-05-23T05:03:22.929386Z"
    },
    "papermill": {
     "duration": 0.015595,
     "end_time": "2025-05-23T05:03:22.931881",
     "exception": false,
     "start_time": "2025-05-23T05:03:22.916286",
     "status": "completed"
    },
    "tags": []
   },
   "outputs": [
    {
     "name": "stdout",
     "output_type": "stream",
     "text": [
      "PassengerID: [['male' 'A/5 21171']\n",
      " ['female' 'PC 17599']\n",
      " ['female' 'STON/O2. 3101282']\n",
      " ['female' '113803']\n",
      " ['male' '373450']]\n",
      "Type of data: <class 'numpy.ndarray'>\n",
      "Survived: [0 1 1 1 0]\n",
      "Type of data: <class 'numpy.ndarray'>\n"
     ]
    }
   ],
   "source": [
    "print(\"PassengerID:\", X_train[:5])\n",
    "print(\"Type of data:\",type(X_train))\n",
    "\n",
    "print(\"Survived:\", y_train[:5])\n",
    "print(\"Type of data:\",type(y_train))"
   ]
  },
  {
   "cell_type": "code",
   "execution_count": 7,
   "id": "8e06d05c",
   "metadata": {
    "execution": {
     "iopub.execute_input": "2025-05-23T05:03:22.950632Z",
     "iopub.status.busy": "2025-05-23T05:03:22.950211Z",
     "iopub.status.idle": "2025-05-23T05:03:22.956761Z",
     "shell.execute_reply": "2025-05-23T05:03:22.955937Z"
    },
    "papermill": {
     "duration": 0.017176,
     "end_time": "2025-05-23T05:03:22.958662",
     "exception": false,
     "start_time": "2025-05-23T05:03:22.941486",
     "status": "completed"
    },
    "tags": []
   },
   "outputs": [
    {
     "name": "stdout",
     "output_type": "stream",
     "text": [
      "Number of positives: 342\n",
      "Number of negatives: 549\n"
     ]
    }
   ],
   "source": [
    "print(\"Number of positives:\", np.sum(y_train == 1))\n",
    "print(\"Number of negatives:\", np.sum(y_train == 0))"
   ]
  },
  {
   "cell_type": "code",
   "execution_count": 8,
   "id": "8ce6b1c5",
   "metadata": {
    "execution": {
     "iopub.execute_input": "2025-05-23T05:03:22.976205Z",
     "iopub.status.busy": "2025-05-23T05:03:22.975875Z",
     "iopub.status.idle": "2025-05-23T05:03:22.981260Z",
     "shell.execute_reply": "2025-05-23T05:03:22.980128Z"
    },
    "papermill": {
     "duration": 0.01516,
     "end_time": "2025-05-23T05:03:22.982679",
     "exception": false,
     "start_time": "2025-05-23T05:03:22.967519",
     "status": "completed"
    },
    "tags": []
   },
   "outputs": [
    {
     "name": "stdout",
     "output_type": "stream",
     "text": [
      "(891, 2) (891,)\n",
      "[0 1]\n"
     ]
    }
   ],
   "source": [
    "print(X_train.shape, y_train.shape)\n",
    "print(np.unique(y_train))"
   ]
  },
  {
   "cell_type": "code",
   "execution_count": 9,
   "id": "15ee8bbc",
   "metadata": {
    "execution": {
     "iopub.execute_input": "2025-05-23T05:03:22.996518Z",
     "iopub.status.busy": "2025-05-23T05:03:22.996217Z",
     "iopub.status.idle": "2025-05-23T05:03:23.001308Z",
     "shell.execute_reply": "2025-05-23T05:03:23.000267Z"
    },
    "papermill": {
     "duration": 0.013063,
     "end_time": "2025-05-23T05:03:23.002560",
     "exception": false,
     "start_time": "2025-05-23T05:03:22.989497",
     "status": "completed"
    },
    "tags": []
   },
   "outputs": [
    {
     "name": "stdout",
     "output_type": "stream",
     "text": [
      "The shape of X_train is: (891, 2)\n",
      "The shape of y_train is: (891,)\n",
      "We have m = 891 training examples\n"
     ]
    }
   ],
   "source": [
    "print ('The shape of X_train is: ' + str(X_train.shape))\n",
    "print ('The shape of y_train is: ' + str(y_train.shape))\n",
    "print ('We have m = %d training examples' % (len(y_train)))"
   ]
  },
  {
   "cell_type": "code",
   "execution_count": 10,
   "id": "f6c90e44",
   "metadata": {
    "execution": {
     "iopub.execute_input": "2025-05-23T05:03:23.016327Z",
     "iopub.status.busy": "2025-05-23T05:03:23.015983Z",
     "iopub.status.idle": "2025-05-23T05:03:27.338767Z",
     "shell.execute_reply": "2025-05-23T05:03:27.337855Z"
    },
    "papermill": {
     "duration": 4.332847,
     "end_time": "2025-05-23T05:03:27.341768",
     "exception": false,
     "start_time": "2025-05-23T05:03:23.008921",
     "status": "completed"
    },
    "tags": []
   },
   "outputs": [
    {
     "data": {
      "image/png": "[encoded data removed]",
      "text/plain": [
       "<Figure size 1000x600 with 1 Axes>"
      ]
     },
     "metadata": {},
     "output_type": "display_data"
    }
   ],
   "source": [
    "def plot_data_2D(X, y, pos_label=\"Survived\", neg_label=\"Not Survived\"):\n",
    "    plt.figure(figsize=(10, 6))  # Increase figure size\n",
    "    plt.scatter(X[y == 1, 0], X[y == 1, 1], color='b', label=pos_label, marker='o')\n",
    "    plt.scatter(X[y == 0, 0], X[y == 0, 1], color='r', label=neg_label, marker='x')\n",
    "    plt.xlabel('Age')\n",
    "    plt.ylabel('Fare')  \n",
    "    plt.legend()\n",
    "    plt.title('Data distribution by class')\n",
    "    plt.tight_layout() \n",
    "    plt.show()\n",
    "plot_data_2D(X_train, y_train)"
   ]
  },
  {
   "cell_type": "code",
   "execution_count": 11,
   "id": "dba96179",
   "metadata": {
    "execution": {
     "iopub.execute_input": "2025-05-23T05:03:27.360566Z",
     "iopub.status.busy": "2025-05-23T05:03:27.360275Z",
     "iopub.status.idle": "2025-05-23T05:03:27.368723Z",
     "shell.execute_reply": "2025-05-23T05:03:27.367893Z"
    },
    "papermill": {
     "duration": 0.019057,
     "end_time": "2025-05-23T05:03:27.370239",
     "exception": false,
     "start_time": "2025-05-23T05:03:27.351182",
     "status": "completed"
    },
    "tags": []
   },
   "outputs": [
    {
     "name": "stdout",
     "output_type": "stream",
     "text": [
      "Original shape of data: (891, 2)\n",
      "Shape after feature mapping: (891, 28)\n"
     ]
    }
   ],
   "source": [
    "import numpy as np\n",
    "X_train = df.iloc[:, :2].values\n",
    "print(\"Original shape of data:\", X_train.shape)\n",
    "\n",
    "def map_feature(x1, x2, degree=6):\n",
    "    out = [np.ones(x1.shape[0])]\n",
    "    for i in range(1, degree + 1):\n",
    "        for j in range(i + 1):\n",
    "            out.append((x1 ** (i - j)) * (x2 ** j))\n",
    "    return np.stack(out, axis=1)\n",
    "\n",
    "mapped_X = map_feature(X_train[:, 0], X_train[:, 1])\n",
    "print(\"Shape after feature mapping:\", mapped_X.shape)\n"
   ]
  },
  {
   "cell_type": "code",
   "execution_count": 12,
   "id": "962398f3",
   "metadata": {
    "execution": {
     "iopub.execute_input": "2025-05-23T05:03:27.388449Z",
     "iopub.status.busy": "2025-05-23T05:03:27.387608Z",
     "iopub.status.idle": "2025-05-23T05:03:27.393092Z",
     "shell.execute_reply": "2025-05-23T05:03:27.391973Z"
    },
    "papermill": {
     "duration": 0.016076,
     "end_time": "2025-05-23T05:03:27.394497",
     "exception": false,
     "start_time": "2025-05-23T05:03:27.378421",
     "status": "completed"
    },
    "tags": []
   },
   "outputs": [
    {
     "name": "stdout",
     "output_type": "stream",
     "text": [
      "X_train[0]: [1 0]\n",
      "mapped X_train[0]: [1. 1. 0. 1. 0. 0. 1. 0. 0. 0. 1. 0. 0. 0. 0. 1. 0. 0. 0. 0. 0. 1. 0. 0.\n",
      " 0. 0. 0. 0.]\n"
     ]
    }
   ],
   "source": [
    "print(\"X_train[0]:\", X_train[0])\n",
    "print(\"mapped X_train[0]:\", mapped_X[0])"
   ]
  },
  {
   "cell_type": "code",
   "execution_count": 13,
   "id": "535c06ae",
   "metadata": {
    "execution": {
     "iopub.execute_input": "2025-05-23T05:03:27.412021Z",
     "iopub.status.busy": "2025-05-23T05:03:27.411733Z",
     "iopub.status.idle": "2025-05-23T05:03:27.415901Z",
     "shell.execute_reply": "2025-05-23T05:03:27.415130Z"
    },
    "papermill": {
     "duration": 0.014543,
     "end_time": "2025-05-23T05:03:27.417324",
     "exception": false,
     "start_time": "2025-05-23T05:03:27.402781",
     "status": "completed"
    },
    "tags": []
   },
   "outputs": [],
   "source": [
    "#sigmoid function\n",
    "def sigmoid(z):\n",
    "    z = np.clip(z, -500, 500)\n",
    "    return 1 / (1 + np.exp(-z))"
   ]
  },
  {
   "cell_type": "code",
   "execution_count": 14,
   "id": "03f7b433",
   "metadata": {
    "execution": {
     "iopub.execute_input": "2025-05-23T05:03:27.435020Z",
     "iopub.status.busy": "2025-05-23T05:03:27.434438Z",
     "iopub.status.idle": "2025-05-23T05:03:27.439931Z",
     "shell.execute_reply": "2025-05-23T05:03:27.439103Z"
    },
    "papermill": {
     "duration": 0.015974,
     "end_time": "2025-05-23T05:03:27.441432",
     "exception": false,
     "start_time": "2025-05-23T05:03:27.425458",
     "status": "completed"
    },
    "tags": []
   },
   "outputs": [],
   "source": [
    "#cost function regulized\n",
    "def compute_cost_reg(X, y, w, b, lambda_):\n",
    "    m = X.shape[0]\n",
    "    z = X.dot(w) + b\n",
    "    z = np.clip(z, -500, 500)\n",
    "    h = 1 / (1 + np.exp(-z))\n",
    "    \n",
    "    epsilon = 1e-15\n",
    "    h = np.clip(h, epsilon, 1 - epsilon)  # Clip predictions\n",
    "    \n",
    "    cost = (-y * np.log(h) - (1 - y) * np.log(1 - h)).mean()\n",
    "    reg_cost = (lambda_ / (2 * m)) * np.sum(w ** 2)\n",
    "    \n",
    "    total_cost = cost + reg_cost\n",
    "    return total_cost"
   ]
  },
  {
   "cell_type": "code",
   "execution_count": 15,
   "id": "85d88b9d",
   "metadata": {
    "execution": {
     "iopub.execute_input": "2025-05-23T05:03:27.459124Z",
     "iopub.status.busy": "2025-05-23T05:03:27.458807Z",
     "iopub.status.idle": "2025-05-23T05:03:27.473728Z",
     "shell.execute_reply": "2025-05-23T05:03:27.472763Z"
    },
    "papermill": {
     "duration": 0.025551,
     "end_time": "2025-05-23T05:03:27.475192",
     "exception": false,
     "start_time": "2025-05-23T05:03:27.449641",
     "status": "completed"
    },
    "tags": []
   },
   "outputs": [
    {
     "name": "stdout",
     "output_type": "stream",
     "text": [
      "Regularized cost: 21.245148145521174\n"
     ]
    }
   ],
   "source": [
    "X_mapped = map_feature(X_train[:, 0], X_train[:, 1])\n",
    "np.random.seed(1)\n",
    "initial_w = np.random.rand(X_mapped.shape[1]) - 0.5\n",
    "initial_b = 0.5\n",
    "lambda_ = 0.5\n",
    "\n",
    "cost = compute_cost_reg(X_mapped, y_train, initial_w, initial_b, lambda_)\n",
    "print(\"Regularized cost:\", cost)"
   ]
  },
  {
   "cell_type": "code",
   "execution_count": 16,
   "id": "7c37d329",
   "metadata": {
    "execution": {
     "iopub.execute_input": "2025-05-23T05:03:27.492655Z",
     "iopub.status.busy": "2025-05-23T05:03:27.492368Z",
     "iopub.status.idle": "2025-05-23T05:03:27.497350Z",
     "shell.execute_reply": "2025-05-23T05:03:27.496510Z"
    },
    "papermill": {
     "duration": 0.015219,
     "end_time": "2025-05-23T05:03:27.498612",
     "exception": false,
     "start_time": "2025-05-23T05:03:27.483393",
     "status": "completed"
    },
    "tags": []
   },
   "outputs": [],
   "source": [
    "#gradient function\n",
    "def compute_gradient(X, y, w, b, *argv): \n",
    "    m, n = X.shape\n",
    "    dj_dw = np.zeros(w.shape)\n",
    "    dj_db = 0.\n",
    "\n",
    "    z = np.dot(X, w) + b\n",
    "    h = sigmoid(z)\n",
    "    dj_db = np.sum(h - y) / m\n",
    "    dj_dw = np.dot(X.T, h - y) / m        \n",
    "    return dj_db, dj_dw"
   ]
  },
  {
   "cell_type": "code",
   "execution_count": 17,
   "id": "6e36fa9d",
   "metadata": {
    "execution": {
     "iopub.execute_input": "2025-05-23T05:03:27.516215Z",
     "iopub.status.busy": "2025-05-23T05:03:27.515699Z",
     "iopub.status.idle": "2025-05-23T05:03:27.520510Z",
     "shell.execute_reply": "2025-05-23T05:03:27.519714Z"
    },
    "papermill": {
     "duration": 0.015245,
     "end_time": "2025-05-23T05:03:27.521992",
     "exception": false,
     "start_time": "2025-05-23T05:03:27.506747",
     "status": "completed"
    },
    "tags": []
   },
   "outputs": [],
   "source": [
    "#gradient function regulized\n",
    "def compute_gradient_reg(X, y, w, b, lambda_ = 1): \n",
    "    m, n = X.shape\n",
    "    dj_db, dj_dw = compute_gradient(X, y, w, b)    \n",
    "    dj_dw += (lambda_ / m) * w     \n",
    "    return dj_db, dj_dw"
   ]
  },
  {
   "cell_type": "code",
   "execution_count": 18,
   "id": "3ebd097f",
   "metadata": {
    "execution": {
     "iopub.execute_input": "2025-05-23T05:03:27.539899Z",
     "iopub.status.busy": "2025-05-23T05:03:27.539647Z",
     "iopub.status.idle": "2025-05-23T05:03:27.546923Z",
     "shell.execute_reply": "2025-05-23T05:03:27.546089Z"
    },
    "papermill": {
     "duration": 0.017924,
     "end_time": "2025-05-23T05:03:27.548407",
     "exception": false,
     "start_time": "2025-05-23T05:03:27.530483",
     "status": "completed"
    },
    "tags": []
   },
   "outputs": [
    {
     "name": "stdout",
     "output_type": "stream",
     "text": [
      "dj_db: 0.6157851855294073\n",
      "First few elements of regularized dj_dw:\n",
      " [0.6157386209978151, 275.43409064259646, -0.00028051943051883045, 164905.4091647212]\n"
     ]
    }
   ],
   "source": [
    "X_mapped = map_feature(X_train[:, 0], X_train[:, 1])\n",
    "np.random.seed(1) \n",
    "initial_w  = np.random.rand(X_mapped.shape[1]) - 0.5 \n",
    "initial_b = 0.5\n",
    " \n",
    "lambda_ = 0.5\n",
    "dj_db, dj_dw = compute_gradient_reg(X_mapped, y_train, initial_w, initial_b, lambda_)\n",
    "\n",
    "print(f\"dj_db: {dj_db}\", )\n",
    "print(f\"First few elements of regularized dj_dw:\\n {dj_dw[:4].tolist()}\", )"
   ]
  },
  {
   "cell_type": "code",
   "execution_count": 19,
   "id": "2c1e4200",
   "metadata": {
    "execution": {
     "iopub.execute_input": "2025-05-23T05:03:27.566415Z",
     "iopub.status.busy": "2025-05-23T05:03:27.566129Z",
     "iopub.status.idle": "2025-05-23T05:03:27.572381Z",
     "shell.execute_reply": "2025-05-23T05:03:27.571568Z"
    },
    "papermill": {
     "duration": 0.017021,
     "end_time": "2025-05-23T05:03:27.573891",
     "exception": false,
     "start_time": "2025-05-23T05:03:27.556870",
     "status": "completed"
    },
    "tags": []
   },
   "outputs": [],
   "source": [
    "#gradient descent\n",
    "def gradient_descent(X, y, w_in, b_in, cost_function, gradient_function, alpha, num_iters, lambda_): \n",
    "    m = len(X)\n",
    "    J_history = []\n",
    "    w_history = []\n",
    "    \n",
    "    for i in range(num_iters):\n",
    "        dj_db, dj_dw = gradient_function(X, y, w_in, b_in, lambda_)   \n",
    "        w_in = w_in - alpha * dj_dw               \n",
    "        b_in = b_in - alpha * dj_db              \n",
    "        if i<100000:     \n",
    "            cost =  cost_function(X, y, w_in, b_in, lambda_)\n",
    "            J_history.append(cost)\n",
    "        if i% math.ceil(num_iters/10) == 0 or i == (num_iters-1):\n",
    "            w_history.append(w_in)\n",
    "            print(f\"Iteration {i:4}: Cost {float(J_history[-1]):8.2f}   \")\n",
    "        \n",
    "    return w_in, b_in, J_history, w_history"
   ]
  },
  {
   "cell_type": "code",
   "execution_count": 20,
   "id": "771304aa",
   "metadata": {
    "execution": {
     "iopub.execute_input": "2025-05-23T05:03:27.592206Z",
     "iopub.status.busy": "2025-05-23T05:03:27.591852Z",
     "iopub.status.idle": "2025-05-23T05:03:29.115691Z",
     "shell.execute_reply": "2025-05-23T05:03:29.114779Z"
    },
    "papermill": {
     "duration": 1.534821,
     "end_time": "2025-05-23T05:03:29.117200",
     "exception": false,
     "start_time": "2025-05-23T05:03:27.582379",
     "status": "completed"
    },
    "tags": []
   },
   "outputs": [
    {
     "name": "stdout",
     "output_type": "stream",
     "text": [
      "Iteration    0: Cost 11595348228989303914496.00   \n",
      "Iteration 1000: Cost 2972465385146288177152.00   \n",
      "Iteration 2000: Cost 19930959221597948346368.00   \n",
      "Iteration 3000: Cost 24230302755004767797248.00   \n",
      "Iteration 4000: Cost 50165057252595794444288.00   \n",
      "Iteration 5000: Cost 48930522082261801631744.00   \n",
      "Iteration 6000: Cost 48929423755236832444416.00   \n",
      "Iteration 7000: Cost 48928325456837526683648.00   \n",
      "Iteration 8000: Cost 48927227184791343333376.00   \n",
      "Iteration 9000: Cost 48926128938282020503552.00   \n",
      "Iteration 9999: Cost 48925031815148631752704.00   \n"
     ]
    }
   ],
   "source": [
    "np.random.seed(1)\n",
    "initial_w = np.random.randn(X_mapped.shape[1]) * 0.01\n",
    "initial_b = 0.0\n",
    "lambda_ = 0.01    \n",
    "iterations = 10000\n",
    "alpha = 0.001\n",
    "w,b, J_history,_ = gradient_descent(X_mapped, y_train, initial_w, initial_b, \n",
    "                                    compute_cost_reg, compute_gradient_reg, \n",
    "                                    alpha, iterations, lambda_)"
   ]
  },
  {
   "cell_type": "code",
   "execution_count": 21,
   "id": "34647f60",
   "metadata": {
    "execution": {
     "iopub.execute_input": "2025-05-23T05:03:29.136409Z",
     "iopub.status.busy": "2025-05-23T05:03:29.136017Z",
     "iopub.status.idle": "2025-05-23T05:03:34.525004Z",
     "shell.execute_reply": "2025-05-23T05:03:34.524093Z"
    },
    "papermill": {
     "duration": 5.400165,
     "end_time": "2025-05-23T05:03:34.526503",
     "exception": false,
     "start_time": "2025-05-23T05:03:29.126338",
     "status": "completed"
    },
    "tags": []
   },
   "outputs": [
    {
     "data": {
      "image/png": "[encoded data removed]",
      "text/plain": [
       "<Figure size 640x480 with 1 Axes>"
      ]
     },
     "metadata": {},
     "output_type": "display_data"
    }
   ],
   "source": [
    "#decision boundary\n",
    "def plot_decision_boundary(w, b, X, y, pos_label=1, neg_label=0):\n",
    "    u = np.linspace(X[:,0].min()-1, X[:,0].max()+1, 200)\n",
    "    v = np.linspace(X[:,1].min()-1, X[:,1].max()+1, 200)\n",
    "    z = np.zeros((len(u), len(v)))\n",
    "    \n",
    "    for i in range(len(u)):\n",
    "        for j in range(len(v)):\n",
    "            mapped_feature = map_feature(np.array([u[i]]), np.array([v[j]]))\n",
    "            z[i,j] = (np.dot(mapped_feature, w) + b).item()\n",
    "    \n",
    "    z = z.T\n",
    "    plt.contour(u, v, z, levels=[0], colors='g')\n",
    "    plt.scatter(X[y==pos_label, 0], X[y==pos_label, 1], marker='+', label='Positive')\n",
    "    plt.scatter(X[y==neg_label, 0], X[y==neg_label, 1], marker='o', label='Negative')\n",
    "    plt.legend()\n",
    "    plt.xlabel('PassengerID')\n",
    "    plt.ylabel('Survived')\n",
    "    plt.title('Decision Boundary')\n",
    "    plt.show()\n",
    "plot_decision_boundary(w, b, X_train[:, :2], y_train)"
   ]
  },
  {
   "cell_type": "code",
   "execution_count": 22,
   "id": "86dcba23",
   "metadata": {
    "execution": {
     "iopub.execute_input": "2025-05-23T05:03:34.547607Z",
     "iopub.status.busy": "2025-05-23T05:03:34.547297Z",
     "iopub.status.idle": "2025-05-23T05:03:34.552331Z",
     "shell.execute_reply": "2025-05-23T05:03:34.551506Z"
    },
    "papermill": {
     "duration": 0.017453,
     "end_time": "2025-05-23T05:03:34.553824",
     "exception": false,
     "start_time": "2025-05-23T05:03:34.536371",
     "status": "completed"
    },
    "tags": []
   },
   "outputs": [],
   "source": [
    "#prediction\n",
    "def predict(X, w, b): \n",
    "    m, n = X.shape   \n",
    "    p = np.zeros(m)\n",
    "    for i in range(m):\n",
    "        z_wb = np.dot(X[i], w) + b\n",
    "        f_wb = sigmoid(z_wb)\n",
    "        p[i] = 1 if f_wb >= 0.5 else 0\n",
    "    return p"
   ]
  },
  {
   "cell_type": "code",
   "execution_count": 23,
   "id": "fbd9b959",
   "metadata": {
    "execution": {
     "iopub.execute_input": "2025-05-23T05:03:34.573891Z",
     "iopub.status.busy": "2025-05-23T05:03:34.573573Z",
     "iopub.status.idle": "2025-05-23T05:03:34.587877Z",
     "shell.execute_reply": "2025-05-23T05:03:34.586945Z"
    },
    "papermill": {
     "duration": 0.026186,
     "end_time": "2025-05-23T05:03:34.589467",
     "exception": false,
     "start_time": "2025-05-23T05:03:34.563281",
     "status": "completed"
    },
    "tags": []
   },
   "outputs": [
    {
     "name": "stdout",
     "output_type": "stream",
     "text": [
      "Train Accuracy: 96.408530\n"
     ]
    }
   ],
   "source": [
    "p = predict(X_mapped, w, b)\n",
    "\n",
    "print('Train Accuracy: %f'%(np.mean(p == y_train) * 100))"
   ]
  },
  {
   "cell_type": "markdown",
   "id": "56b05754",
   "metadata": {
    "papermill": {
     "duration": 0.009237,
     "end_time": "2025-05-23T05:03:34.608060",
     "exception": false,
     "start_time": "2025-05-23T05:03:34.598823",
     "status": "completed"
    },
    "tags": []
   },
   "source": [
    "# Testing"
   ]
  },
  {
   "cell_type": "code",
   "execution_count": 24,
   "id": "8a616a65",
   "metadata": {
    "execution": {
     "iopub.execute_input": "2025-05-23T05:03:34.627955Z",
     "iopub.status.busy": "2025-05-23T05:03:34.627677Z",
     "iopub.status.idle": "2025-05-23T05:03:34.646775Z",
     "shell.execute_reply": "2025-05-23T05:03:34.645957Z"
    },
    "papermill": {
     "duration": 0.030915,
     "end_time": "2025-05-23T05:03:34.648363",
     "exception": false,
     "start_time": "2025-05-23T05:03:34.617448",
     "status": "completed"
    },
    "tags": []
   },
   "outputs": [
    {
     "data": {
      "text/html": [
       "<div>\n",
       "<style scoped>\n",
       "    .dataframe tbody tr th:only-of-type {\n",
       "        vertical-align: middle;\n",
       "    }\n",
       "\n",
       "    .dataframe tbody tr th {\n",
       "        vertical-align: top;\n",
       "    }\n",
       "\n",
       "    .dataframe thead th {\n",
       "        text-align: right;\n",
       "    }\n",
       "</style>\n",
       "<table border=\"1\" class=\"dataframe\">\n",
       "  <thead>\n",
       "    <tr style=\"text-align: right;\">\n",
       "      <th></th>\n",
       "      <th>PassengerId</th>\n",
       "      <th>Pclass</th>\n",
       "      <th>Name</th>\n",
       "      <th>Sex</th>\n",
       "      <th>Age</th>\n",
       "      <th>SibSp</th>\n",
       "      <th>Parch</th>\n",
       "      <th>Ticket</th>\n",
       "      <th>Fare</th>\n",
       "      <th>Cabin</th>\n",
       "      <th>Embarked</th>\n",
       "    </tr>\n",
       "  </thead>\n",
       "  <tbody>\n",
       "    <tr>\n",
       "      <th>0</th>\n",
       "      <td>892</td>\n",
       "      <td>3</td>\n",
       "      <td>Kelly, Mr. James</td>\n",
       "      <td>male</td>\n",
       "      <td>34.5</td>\n",
       "      <td>0</td>\n",
       "      <td>0</td>\n",
       "      <td>330911</td>\n",
       "      <td>7.8292</td>\n",
       "      <td>NaN</td>\n",
       "      <td>Q</td>\n",
       "    </tr>\n",
       "    <tr>\n",
       "      <th>1</th>\n",
       "      <td>893</td>\n",
       "      <td>3</td>\n",
       "      <td>Wilkes, Mrs. James (Ellen Needs)</td>\n",
       "      <td>female</td>\n",
       "      <td>47.0</td>\n",
       "      <td>1</td>\n",
       "      <td>0</td>\n",
       "      <td>363272</td>\n",
       "      <td>7.0000</td>\n",
       "      <td>NaN</td>\n",
       "      <td>S</td>\n",
       "    </tr>\n",
       "    <tr>\n",
       "      <th>2</th>\n",
       "      <td>894</td>\n",
       "      <td>2</td>\n",
       "      <td>Myles, Mr. Thomas Francis</td>\n",
       "      <td>male</td>\n",
       "      <td>62.0</td>\n",
       "      <td>0</td>\n",
       "      <td>0</td>\n",
       "      <td>240276</td>\n",
       "      <td>9.6875</td>\n",
       "      <td>NaN</td>\n",
       "      <td>Q</td>\n",
       "    </tr>\n",
       "    <tr>\n",
       "      <th>3</th>\n",
       "      <td>895</td>\n",
       "      <td>3</td>\n",
       "      <td>Wirz, Mr. Albert</td>\n",
       "      <td>male</td>\n",
       "      <td>27.0</td>\n",
       "      <td>0</td>\n",
       "      <td>0</td>\n",
       "      <td>315154</td>\n",
       "      <td>8.6625</td>\n",
       "      <td>NaN</td>\n",
       "      <td>S</td>\n",
       "    </tr>\n",
       "    <tr>\n",
       "      <th>4</th>\n",
       "      <td>896</td>\n",
       "      <td>3</td>\n",
       "      <td>Hirvonen, Mrs. Alexander (Helga E Lindqvist)</td>\n",
       "      <td>female</td>\n",
       "      <td>22.0</td>\n",
       "      <td>1</td>\n",
       "      <td>1</td>\n",
       "      <td>3101298</td>\n",
       "      <td>12.2875</td>\n",
       "      <td>NaN</td>\n",
       "      <td>S</td>\n",
       "    </tr>\n",
       "  </tbody>\n",
       "</table>\n",
       "</div>"
      ],
      "text/plain": [
       "   PassengerId  Pclass                                          Name     Sex  \\\n",
       "0          892       3                              Kelly, Mr. James    male   \n",
       "1          893       3              Wilkes, Mrs. James (Ellen Needs)  female   \n",
       "2          894       2                     Myles, Mr. Thomas Francis    male   \n",
       "3          895       3                              Wirz, Mr. Albert    male   \n",
       "4          896       3  Hirvonen, Mrs. Alexander (Helga E Lindqvist)  female   \n",
       "\n",
       "    Age  SibSp  Parch   Ticket     Fare Cabin Embarked  \n",
       "0  34.5      0      0   330911   7.8292   NaN        Q  \n",
       "1  47.0      1      0   363272   7.0000   NaN        S  \n",
       "2  62.0      0      0   240276   9.6875   NaN        Q  \n",
       "3  27.0      0      0   315154   8.6625   NaN        S  \n",
       "4  22.0      1      1  3101298  12.2875   NaN        S  "
      ]
     },
     "execution_count": 24,
     "metadata": {},
     "output_type": "execute_result"
    }
   ],
   "source": [
    "file_path = \"/kaggle/input/test-titanic/test.csv\"\n",
    "test_df = pd.read_csv(file_path)\n",
    "\n",
    "test_df.head()"
   ]
  },
  {
   "cell_type": "code",
   "execution_count": 25,
   "id": "69fd0979",
   "metadata": {
    "execution": {
     "iopub.execute_input": "2025-05-23T05:03:34.669054Z",
     "iopub.status.busy": "2025-05-23T05:03:34.668763Z",
     "iopub.status.idle": "2025-05-23T05:03:34.676862Z",
     "shell.execute_reply": "2025-05-23T05:03:34.676054Z"
    },
    "papermill": {
     "duration": 0.019939,
     "end_time": "2025-05-23T05:03:34.678236",
     "exception": false,
     "start_time": "2025-05-23T05:03:34.658297",
     "status": "completed"
    },
    "tags": []
   },
   "outputs": [],
   "source": [
    "X_test = test_df.iloc[:, [4, 8]].values"
   ]
  },
  {
   "cell_type": "code",
   "execution_count": 26,
   "id": "8c152c7f",
   "metadata": {
    "execution": {
     "iopub.execute_input": "2025-05-23T05:03:34.698451Z",
     "iopub.status.busy": "2025-05-23T05:03:34.698185Z",
     "iopub.status.idle": "2025-05-23T05:03:34.702827Z",
     "shell.execute_reply": "2025-05-23T05:03:34.702033Z"
    },
    "papermill": {
     "duration": 0.016448,
     "end_time": "2025-05-23T05:03:34.704258",
     "exception": false,
     "start_time": "2025-05-23T05:03:34.687810",
     "status": "completed"
    },
    "tags": []
   },
   "outputs": [
    {
     "name": "stdout",
     "output_type": "stream",
     "text": [
      "(418, 2)\n",
      "(28,)\n"
     ]
    }
   ],
   "source": [
    "print(X_test.shape)\n",
    "print(w.shape)"
   ]
  },
  {
   "cell_type": "code",
   "execution_count": 27,
   "id": "1e867824",
   "metadata": {
    "execution": {
     "iopub.execute_input": "2025-05-23T05:03:34.725189Z",
     "iopub.status.busy": "2025-05-23T05:03:34.724502Z",
     "iopub.status.idle": "2025-05-23T05:03:34.729110Z",
     "shell.execute_reply": "2025-05-23T05:03:34.728241Z"
    },
    "papermill": {
     "duration": 0.016465,
     "end_time": "2025-05-23T05:03:34.730430",
     "exception": false,
     "start_time": "2025-05-23T05:03:34.713965",
     "status": "completed"
    },
    "tags": []
   },
   "outputs": [
    {
     "name": "stdout",
     "output_type": "stream",
     "text": [
      "(28,)\n"
     ]
    }
   ],
   "source": [
    "print(w.shape)\n",
    "w = w[:2]  "
   ]
  },
  {
   "cell_type": "code",
   "execution_count": 28,
   "id": "d6497447",
   "metadata": {
    "execution": {
     "iopub.execute_input": "2025-05-23T05:03:34.751578Z",
     "iopub.status.busy": "2025-05-23T05:03:34.750661Z",
     "iopub.status.idle": "2025-05-23T05:03:34.754930Z",
     "shell.execute_reply": "2025-05-23T05:03:34.754131Z"
    },
    "papermill": {
     "duration": 0.016392,
     "end_time": "2025-05-23T05:03:34.756392",
     "exception": false,
     "start_time": "2025-05-23T05:03:34.740000",
     "status": "completed"
    },
    "tags": []
   },
   "outputs": [],
   "source": [
    "z = np.dot(X_test, w) + b "
   ]
  },
  {
   "cell_type": "code",
   "execution_count": 29,
   "id": "2146d687",
   "metadata": {
    "execution": {
     "iopub.execute_input": "2025-05-23T05:03:34.777268Z",
     "iopub.status.busy": "2025-05-23T05:03:34.776393Z",
     "iopub.status.idle": "2025-05-23T05:03:34.780936Z",
     "shell.execute_reply": "2025-05-23T05:03:34.780084Z"
    },
    "papermill": {
     "duration": 0.016283,
     "end_time": "2025-05-23T05:03:34.782322",
     "exception": false,
     "start_time": "2025-05-23T05:03:34.766039",
     "status": "completed"
    },
    "tags": []
   },
   "outputs": [],
   "source": [
    "def sigmoid(x):\n",
    "    x = np.clip(x, -500, 500) \n",
    "    return 1 / (1 + np.exp(-x))"
   ]
  },
  {
   "cell_type": "code",
   "execution_count": 30,
   "id": "facdf855",
   "metadata": {
    "execution": {
     "iopub.execute_input": "2025-05-23T05:03:34.802700Z",
     "iopub.status.busy": "2025-05-23T05:03:34.802441Z",
     "iopub.status.idle": "2025-05-23T05:03:34.807299Z",
     "shell.execute_reply": "2025-05-23T05:03:34.806460Z"
    },
    "papermill": {
     "duration": 0.01682,
     "end_time": "2025-05-23T05:03:34.808654",
     "exception": false,
     "start_time": "2025-05-23T05:03:34.791834",
     "status": "completed"
    },
    "tags": []
   },
   "outputs": [],
   "source": [
    "def predict(X, w, b): \n",
    "    m, n = X.shape   \n",
    "    p = np.zeros(m)\n",
    "    for i in range(m):\n",
    "        z_wb = np.dot(X[i], w) + b\n",
    "        f_wb = sigmoid(z_wb)\n",
    "        p[i] = 1 if f_wb >= 0.5 else 0\n",
    "    return p"
   ]
  },
  {
   "cell_type": "code",
   "execution_count": 31,
   "id": "00866ebe",
   "metadata": {
    "execution": {
     "iopub.execute_input": "2025-05-23T05:03:34.828899Z",
     "iopub.status.busy": "2025-05-23T05:03:34.828619Z",
     "iopub.status.idle": "2025-05-23T05:03:34.841643Z",
     "shell.execute_reply": "2025-05-23T05:03:34.840750Z"
    },
    "papermill": {
     "duration": 0.024777,
     "end_time": "2025-05-23T05:03:34.843098",
     "exception": false,
     "start_time": "2025-05-23T05:03:34.818321",
     "status": "completed"
    },
    "tags": []
   },
   "outputs": [
    {
     "name": "stdout",
     "output_type": "stream",
     "text": [
      "[1. 1. 1. 1. 1. 1. 1. 1. 1. 1. 0. 1. 1. 1. 1. 1. 1. 1. 1. 1. 1. 1. 0. 1.\n",
      " 1. 1. 1. 1. 1. 0. 1. 1. 1. 0. 1. 1. 0. 1. 1. 0. 1. 0. 1. 1. 1. 1. 1. 0.\n",
      " 1. 1. 1. 1. 1. 1. 0. 1. 1. 1. 0. 1. 1. 1. 1. 1. 1. 0. 1. 1. 1. 1. 1. 1.\n",
      " 1. 1. 1. 1. 0. 1. 1. 1. 1. 1. 1. 0. 0. 0. 1. 1. 0. 1. 1. 0. 1. 0. 1. 1.\n",
      " 1. 1. 1. 1. 1. 1. 0. 1. 1. 1. 1. 0. 0. 1. 1. 0. 1. 1. 1. 1. 0. 1. 1. 1.\n",
      " 1. 0. 1. 1. 0. 1. 1. 0. 1. 1. 1. 1. 0. 0. 1. 1. 1. 1. 1. 1. 1. 1. 1. 1.\n",
      " 1. 1. 0. 1. 0. 1. 1. 0. 0. 1. 1. 1. 1. 1. 1. 1. 0. 1. 1. 0. 1. 1. 1. 1.\n",
      " 0. 1. 0. 1. 1. 0. 1. 1. 1. 1. 1. 1. 1. 1. 1. 0. 1. 1. 1. 1. 0. 1. 1. 0.\n",
      " 1. 1. 1. 1. 1. 1. 1. 0. 0. 1. 1. 1. 1. 0. 1. 1. 1. 1. 1. 0. 1. 1. 1. 1.\n",
      " 0. 1. 1. 0. 1. 1. 1. 1. 1. 0. 1. 0. 1. 1. 1. 1. 1. 0. 1. 1. 1. 1. 1. 1.\n",
      " 1. 1. 1. 0. 0. 1. 1. 1. 1. 0. 1. 1. 1. 1. 1. 0. 0. 1. 1. 1. 1. 1. 1. 1.\n",
      " 1. 0. 0. 0. 0. 1. 1. 0. 1. 0. 0. 1. 1. 1. 1. 1. 1. 1. 0. 1. 1. 1. 0. 1.\n",
      " 0. 0. 0. 1. 0. 1. 1. 1. 1. 0. 1. 1. 1. 0. 1. 1. 0. 1. 1. 1. 1. 1. 1. 1.\n",
      " 0. 1. 1. 1. 1. 1. 1. 1. 1. 1. 1. 1. 1. 1. 1. 1. 1. 1. 1. 1. 0. 1. 1. 1.\n",
      " 1. 1. 1. 0. 1. 1. 0. 1. 0. 1. 1. 1. 1. 1. 1. 1. 1. 1. 1. 1. 1. 0. 0. 1.\n",
      " 1. 1. 1. 1. 1. 0. 0. 1. 1. 1. 1. 1. 0. 1. 1. 1. 1. 1. 1. 1. 0. 1. 0. 1.\n",
      " 0. 1. 1. 1. 1. 1. 1. 1. 1. 1. 1. 1. 1. 1. 1. 1. 1. 1. 1. 1. 1. 1. 1. 1.\n",
      " 0. 1. 0. 1. 1. 0. 1. 1. 0. 0.]\n"
     ]
    }
   ],
   "source": [
    "p_test = predict(X_test, w, b)\n",
    "print(p_test)"
   ]
  },
  {
   "cell_type": "code",
   "execution_count": 32,
   "id": "1f8f8cc5",
   "metadata": {
    "execution": {
     "iopub.execute_input": "2025-05-23T05:03:34.863866Z",
     "iopub.status.busy": "2025-05-23T05:03:34.863576Z",
     "iopub.status.idle": "2025-05-23T05:03:34.876519Z",
     "shell.execute_reply": "2025-05-23T05:03:34.875596Z"
    },
    "papermill": {
     "duration": 0.024749,
     "end_time": "2025-05-23T05:03:34.877779",
     "exception": false,
     "start_time": "2025-05-23T05:03:34.853030",
     "status": "completed"
    },
    "tags": []
   },
   "outputs": [
    {
     "name": "stdout",
     "output_type": "stream",
     "text": [
      "(418, 2)\n"
     ]
    }
   ],
   "source": [
    "submission = pd.DataFrame({\n",
    "    \"PassengerId\": test_df[\"PassengerId\"],\n",
    "    \"Survived\": p_test.astype(int) \n",
    "})\n",
    "\n",
    "submission.to_csv(\"submission.csv\", index=False)\n",
    "\n",
    "print(submission.shape)"
   ]
  }
 ],
 "metadata": {
  "kaggle": {
   "accelerator": "none",
   "dataSources": [
    {
     "datasetId": 7490674,
     "sourceId": 11914962,
     "sourceType": "datasetVersion"
    },
    {
     "datasetId": 7490804,
     "sourceId": 11915252,
     "sourceType": "datasetVersion"
    }
   ],
   "dockerImageVersionId": 31040,
   "isGpuEnabled": false,
   "isInternetEnabled": false,
   "language": "python",
   "sourceType": "notebook"
  },
  "kernelspec": {
   "display_name": "Python 3",
   "language": "python",
   "name": "python3"
  },
  "language_info": {
   "codemirror_mode": {
    "name": "ipython",
    "version": 3
   },
   "file_extension": ".py",
   "mimetype": "text/x-python",
   "name": "python",
   "nbconvert_exporter": "python",
   "pygments_lexer": "ipython3",
   "version": "3.11.11"
  },
  "papermill": {
   "default_parameters": {},
   "duration": 19.557069,
   "end_time": "2025-05-23T05:03:35.406903",
   "environment_variables": {},
   "exception": null,
   "input_path": "__notebook__.ipynb",
   "output_path": "__notebook__.ipynb",
   "parameters": {},
   "start_time": "2025-05-23T05:03:15.849834",
   "version": "2.6.0"
  }
 },
 "nbformat": 4,
 "nbformat_minor": 5
}
